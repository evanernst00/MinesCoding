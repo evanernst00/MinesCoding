{
 "cells": [
  {
   "cell_type": "code",
   "execution_count": 1,
   "id": "cdb9a2ae-1f1b-4717-ba40-453d277a85d4",
   "metadata": {},
   "outputs": [
    {
     "name": "stdout",
     "output_type": "stream",
     "text": [
      "5\n"
     ]
    }
   ],
   "source": [
    "# Evan Ernst - 1/17/2024\n",
    "\n",
    "num = int(input(\"Input a number: \"))\n",
    "\n",
    "digit = 0\n",
    "counter = 0\n",
    "target = 5\n",
    "\n",
    "while num > 0:\n",
    "    if num % 10 == target:\n",
    "        counter += 1\n",
    "        \n",
    "    num //= 10\n",
    "    \n",
    "print(counter)"
   ]
  },
  {
   "cell_type": "code",
   "execution_count": null,
   "id": "3d92924c-62f7-4962-b78d-1fef01490989",
   "metadata": {},
   "outputs": [],
   "source": []
  }
 ],
 "metadata": {
  "kernelspec": {
   "display_name": "Python 3 (ipykernel)",
   "language": "python",
   "name": "python3"
  },
  "language_info": {
   "codemirror_mode": {
    "name": "ipython",
    "version": 3
   },
   "file_extension": ".py",
   "mimetype": "text/x-python",
   "name": "python",
   "nbconvert_exporter": "python",
   "pygments_lexer": "ipython3",
   "version": "3.12.1"
  }
 },
 "nbformat": 4,
 "nbformat_minor": 5
}
