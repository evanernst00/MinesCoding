{
 "cells": [
  {
   "cell_type": "markdown",
   "metadata": {},
   "source": [
    "Solve this problem: Given a list of words, create a dictionary mapping lengths of words to alphabetically sorted lists of words of that length.\n",
    "\n",
    "E.g., if the word list is ['one', 'two', 'three', 'six'], then the new dictionary should be { 3: ['one', 'six', 'two'], 5: ['three'] }"
   ]
  },
  {
   "cell_type": "code",
   "execution_count": 7,
   "metadata": {},
   "outputs": [
    {
     "name": "stdout",
     "output_type": "stream",
     "text": [
      "{5: ['apple', 'peach'], 6: ['cherry', 'orange', 'quince'], 4: ['pear', 'plum']}\n"
     ]
    }
   ],
   "source": [
    "\n",
    "# Name: Evan Ernst\n",
    "# Date: 1/23/2024\n",
    "# In Class Python Practice: L04\n",
    "\n",
    "words = ['apple', 'plum', 'pear', 'peach', 'orange', 'cherry', 'quince']\n",
    "#words = [\"one\", \"two\", \"three\", \"four\", \"five\", \"six\"]\n",
    "\n",
    "d = {}\n",
    "\n",
    "# YOUR CODE HERE\n",
    "words = sorted(words)\n",
    "for word in words:\n",
    "    length = len(word)\n",
    "    if length in d:\n",
    "        d[length].append(word)\n",
    "    else:\n",
    "        d[length] = [word]\n",
    "\n",
    "print(d)\n"
   ]
  }
 ],
 "metadata": {
  "kernelspec": {
   "display_name": "Python 3",
   "language": "python",
   "name": "python3"
  },
  "language_info": {
   "codemirror_mode": {
    "name": "ipython",
    "version": 3
   },
   "file_extension": ".py",
   "mimetype": "text/x-python",
   "name": "python",
   "nbconvert_exporter": "python",
   "pygments_lexer": "ipython3",
   "version": "3.12.1"
  }
 },
 "nbformat": 4,
 "nbformat_minor": 2
}
