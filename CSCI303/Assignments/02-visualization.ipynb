{
 "cells": [
  {
   "cell_type": "markdown",
   "metadata": {},
   "source": [
    "# Project 2 : Visualization"
   ]
  },
  {
   "cell_type": "markdown",
   "metadata": {},
   "source": [
    "## Instructions\n",
    "\n",
    "### Description\n",
    "\n",
    "In this project, you will look at three bad visualizations then:\n",
    "\n",
    "1. Identify what makes them bad\n",
    "1. Use the same data to make a better chart\n",
    "1. Explain an interesting pattern you noticed.\n",
    "\n",
    "Some helpful questions to determine if a visualization is bad:\n",
    "\n",
    "1. What is the visualization trying to show? Ex. Comparison? Relationship? Change over time?\n",
    "2. Is this the right visualization to use?\n",
    "3. Does the visualization have the correct labels and axes limits?\n",
    "4. Is there too much being shown in one visualization? Should it be split?\n",
    "\n",
    "Some helpful questions to find patterns in a visualization:\n",
    "\n",
    "1. How do different data points compare? Are there significant differences? Are there any outliers?\n",
    "2. If comparing data/series, how do they rank? Is there a significant difference between rankings?\n",
    "3. If looking at data over time, is there any seasonality? How do the values compare to the mean and/or median? How do the values change over time? Ex. Ups and downs? Always up? Always down?\n",
    "\n",
    "### Getting Started\n",
    "\n",
    "The lecture on data visualization (available in the usual places) has a lot of code examples.  Also don't forget the matplotlib documentation available from the Help menu in the notebook.\n",
    "\n",
    "Also, this is the first assignment we've given where we ask you to provide text answers and not just code. You don't have to get fancy, but you'll want to use Markdown to write up your answers.  There is Markdown help available from the Help menu as well.\n",
    "\n",
    "### Grading\n",
    "\n",
    "For grading purposes, we will clear all outputs from all your cells and then run them all from the top.  Please test your notebook in the same fashion before turning it in.\n",
    "\n",
    "### Submitting Your Solution\n",
    "\n",
    "To submit your notebook, first clear all the cells (this won't matter too much this time, but for larger data sets in the future, it will make the file smaller).  Then use the File->Download As->Notebook to obtain the notebook file.  Finally, submit the notebook file on Canvas.\n",
    "\n",
    "### Credits\n",
    "\n",
    "Many thanks to Saad Elbeleidy for this assignment!"
   ]
  },
  {
   "cell_type": "markdown",
   "metadata": {},
   "source": [
    "### Setup Code"
   ]
  },
  {
   "cell_type": "code",
   "execution_count": null,
   "metadata": {},
   "outputs": [],
   "source": [
    "## Imports\n",
    "import matplotlib.pyplot as plt\n",
    "import matplotlib.mlab as mlab\n",
    "import numpy as np\n",
    "import pandas as pd\n",
    "%matplotlib inline\n",
    "%config InlineBackend.figure_format = 'retina'"
   ]
  },
  {
   "cell_type": "markdown",
   "metadata": {},
   "source": [
    "### Problem 1: Bad line chart (15 points)"
   ]
  },
  {
   "cell_type": "markdown",
   "metadata": {},
   "source": [
    "To get you started, we'll walk through 1 bad visualization.\n",
    "\n",
    "![Bad Line Chart](http://imgur.com/kB6uNZC.png)"
   ]
  },
  {
   "cell_type": "code",
   "execution_count": null,
   "metadata": {},
   "outputs": [],
   "source": [
    "# Bad line chart data & names\n",
    "badLineNames = [\"2016 Q1\", \"2016 Q2\", \"2016 Q3\", \"2016 Q4\"]\n",
    "badLineProduct1 = [240, 300, 280, 400]\n",
    "badLineProduct2 = [300, 320, 150, 160]\n",
    "badLineProduct3 = [120, 140, 180, 160]\n",
    "badLineProduct4 = [380, 400, 450, 500]"
   ]
  },
  {
   "cell_type": "markdown",
   "metadata": {},
   "source": [
    "**What makes this visualization bad?**\n",
    "\n",
    "**1. What is the visualization trying to show? Ex. Comparison? Relationship? Change over time?**\n",
    "\n",
    "This visualization trys to show data over time.\n",
    "\n",
    "**2. Is this the right visualization to use?**\n",
    "\n",
    "Yes, we should be using a line chart to show data over time.\n",
    "\n",
    "**3. Does the visualization have the correct labels and axes limits?**\n",
    "\n",
    "There are no labels or a title. We could also use some more space between the min and maximum data points and the axes limits.\n",
    "\n",
    "**4. Is there too much being shown in one visualization? Should it be split?**\n",
    "\n",
    "Yes, it's quite difficult to follow each series, it should be split.\n",
    "\n",
    "\n",
    "Since the chart type is the correct one, it seems all we need to do is add labels and split the lines into panels. Before we do that, we can probably also improve the design. We covered how to improve a `matplotlib` plot in class using different styles. Select a `style` and apply it below."
   ]
  },
  {
   "cell_type": "code",
   "execution_count": null,
   "metadata": {},
   "outputs": [],
   "source": [
    "## Apply your chosen style here\n",
    "plt.style.use('default')"
   ]
  },
  {
   "cell_type": "markdown",
   "metadata": {},
   "source": [
    "example of how to set up subplots can be found in lecture 05, slide 13. "
   ]
  },
  {
   "cell_type": "markdown",
   "metadata": {},
   "source": [
    "Now we need to plot the data over different panels. We can use [`plt.subplots`](http://matplotlib.org/api/pyplot_api.html#matplotlib.pyplot.subplots) to create multiple panels. Since we have 4 products, we're going to need 4 panels on top of each other. `subplots` returns two variables, the figure object and an array of axes. What we can do is loop through each Axes object and create a plot for that product. The first Axes object should plot the first product, the second should plot the second product and so on.\n",
    "<br><br>\n",
    "**Step 1: Buffers** \n",
    "<br>Each subplot will have its own y axis, but to make the scale is the same for all subplots, create a buffer between the lowest value among all products and the start of the y axis as well as between the highest value and the top of the y axis. These buffers are simply integers that extend the y axis above the highest value in the products, and below the lowest.\n",
    "<br><br>\n",
    "**Step 2: Mean**\n",
    "<br>Calculate the mean of the entire data set -- the mean of the individual product means. To calculate this easily, first put the products in a list, create a list of the individual means using a comprehension over the product list, then find the mean of the list of individual means.\n",
    "<br><br>\n",
    "**Step 3: Colors**\n",
    "<br>Choose a color for the plot of each product. This can be done by filling a list with each color's matplotlib name. Available colors can be found [here](https://matplotlib.org/2.0.2/api/colors_api.html)\n",
    "<br><br>\n",
    "**Step 4: Subplots** \n",
    "<br>Now that those numbers are calculated, create 4 line charts on top of each other, each plotting one of the products.\n",
    "<br>For each subplot:\n",
    "<br>\n",
    "1) plot the product with `plot(data, color)`\n",
    "<br>\n",
    "2) Set the y scale using `set_ylim(bottomBuffer, topBuffer)`\n",
    "<br>\n",
    "3) Add an x label if this panel is not the bottom one using `set_xticklabels(list of labels)`\n",
    "<br>\n",
    "4) Add a title to the subplot with the product number using `set_title(title)`\n",
    "<br>\n",
    "5) Add a dashed line with the value of the mean using `plot(mean, args)` or `axhline(mean, args)`. More info [here](https://matplotlib.org/api/_as_gen/matplotlib.axes.Axes.axhline.html)\n",
    "<br><br>\n",
    "**Step 5: Beautify**\n",
    "<br>\n",
    "1) Add a title to the whole diagram(the superplot) with `fig.suptitle(title)`\n",
    "<br>\n",
    "2) Rearrange subplots, if necessary, with `fig.subplots_adjust(left, bottom, right, top, wspace, hspace)`\n",
    "<br><br>\n",
    "**Notes:**\n",
    "<br>\n",
    "- Many of the arguments to many of these functions are 'default', meaning they're optional. If there's an argument you don't need or want, try leaving it out. For example, if you only want to change the hspace of the subplots, you can call `fig.subplot_adjust(hspace=0.6)` without specifying the other arguments. Just be sure to label the argument you want to specify. Don't just write `fig.subplot_adjust(0.6)`"
   ]
  },
  {
   "cell_type": "code",
   "execution_count": null,
   "metadata": {},
   "outputs": [],
   "source": [
    "fig, axs = plt.subplots(4, 1, figsize=(5, 15))\n",
    "\n",
    "badLineProducts = np.array([badLineProduct1, badLineProduct2, badLineProduct3, badLineProduct4])\n",
    "colors = ['b', 'm', 'g', 'c']\n",
    "goodLineNames = [\"Q1\", \"Q2\", \"Q3\", \"Q4\"]\n",
    "\n",
    "\n",
    "# Step 2\n",
    "mean_of_means = np.mean(badLineProducts.mean(axis=1))\n",
    "meanList = np.array([mean_of_means, mean_of_means, mean_of_means, mean_of_means])\n",
    "\n",
    "# Steps 1, 3, 4\n",
    "yLabels = 'Product Amount'\n",
    "xLabels = 'Quarters in 2016'\n",
    "for ax, dataset, color in zip(axs, badLineProducts, colors):\n",
    "    ax.plot(goodLineNames, dataset, color) # Step 4.1\n",
    "    ax.plot(meanList, 'y--')\n",
    "    ax.set_ylabel(yLabels) # Step 4\n",
    "    ax.set_xlabel(xLabels) # Step 4\n",
    "    ax.set_ylim(bottom=0, top=550) # Step 4.2\n",
    "\n",
    "# Step 5\n",
    "fig.suptitle('Products in 2016', y=.9, fontsize=24)\n",
    "\n",
    "plt.show()"
   ]
  },
  {
   "cell_type": "markdown",
   "metadata": {},
   "source": [
    "Now that you've created a better plot, try to describe a pattern in the dataset. Use the following questions as a reference:\n",
    "\n",
    "1. How do different data points compare? Are there significant differences? Are there any outliers?\n",
    "2. If comparing data/series, how do they rank? Is there a significant difference between rankings?\n",
    "3. If looking at data over time, is there any seasonality? How do the values compare to the mean and/or median? How do the values change over time? Ex. Ups and downs? Always up? Always down?"
   ]
  },
  {
   "cell_type": "markdown",
   "metadata": {},
   "source": [
    "**Your Answer Here:**\n",
    "\n",
    ">1. Line product 4 has an outlier, as their product amount is 500, much higher than most other data points. Line products 3 and 4 differ significantly, with 3 being entirely less than the global average, while 4 is entirely above this average. 1 and 2 are fairly standard looking.\n",
    ">2. The order the line products rank in is: 4, 1, 2, 3. There is a significant difference between the products, especially 4 and 3.\n",
    ">3. There is seasonality to these products. Products 1 and 2 have the greatest seasonality, staying consistent for some quarters, and changing for others. Products 1 and 4 increase over time, staying mostly above the mean, while products 2 and 3 decrease over time, staying mostly below the mean."
   ]
  },
  {
   "cell_type": "markdown",
   "metadata": {},
   "source": [
    "Next, look through the following bad visualizations and apply the above workflow to:\n",
    "\n",
    "1. Determine what makes them bad\n",
    "1. Create a better visualization\n",
    "1. Describe a pattern in the data"
   ]
  },
  {
   "cell_type": "markdown",
   "metadata": {},
   "source": [
    "### Problem 2: Bad pie chart (20 points)\n",
    "\n",
    "Explain why this visualization is a bad one:\n",
    "\n",
    "![Bad Pie Chart](http://imgur.com/Wg9DOZd.png)"
   ]
  },
  {
   "cell_type": "markdown",
   "metadata": {},
   "source": [
    "**Your Answer Here:**\n",
    "\n",
    ">This chart has no title, and is hard to understand it's purpose. The sections also do not have value labels or percentages. The pie chart is also squished, making it hard to read."
   ]
  },
  {
   "cell_type": "code",
   "execution_count": null,
   "metadata": {},
   "outputs": [],
   "source": [
    "badPieNames = [\"Golden\", \"Boulder\", \"Denver\", \"Colo Springs\"]\n",
    "badPieValues = [0.37, 0.4, 0.5, 0.35]"
   ]
  },
  {
   "cell_type": "code",
   "execution_count": null,
   "metadata": {},
   "outputs": [],
   "source": [
    "# Plot a better chart using this data\n",
    "fig, ax = plt.subplots()\n",
    "ax.pie(badPieValues, labels=badPieNames, autopct='%1.1f%%')\n",
    "fig.suptitle('Data Scientist Residence on the Front Range', y=.9)\n",
    "\n",
    "plt.show()"
   ]
  },
  {
   "cell_type": "markdown",
   "metadata": {},
   "source": [
    "Tell a story or describe a pattern using your new visualization."
   ]
  },
  {
   "cell_type": "markdown",
   "metadata": {},
   "source": [
    "**Your Answer Here:**\n",
    "\n",
    ">30.9% of data scientists in colorado live in Denver. 22.8% live in Golden because of Mines."
   ]
  },
  {
   "cell_type": "markdown",
   "metadata": {},
   "source": [
    "### Problem 3: Bad bar chart 1 (20 points)\n",
    "\n",
    "Explain why this visualization is a bad one:\n",
    "\n",
    "![Bad Bar Chart](http://imgur.com/AkLyM9I.png)"
   ]
  },
  {
   "cell_type": "markdown",
   "metadata": {},
   "source": [
    "**Your Answer Here:**\n",
    "\n",
    ">This visualization doesn't have a title, and it doesn't say what each bar is for. It also doesn't start at 0."
   ]
  },
  {
   "cell_type": "code",
   "execution_count": null,
   "metadata": {},
   "outputs": [],
   "source": [
    "badBarNames = [\"Coffee\", \"Tea\", \"Beer\"]\n",
    "badBarValues = [240, 232, 251]"
   ]
  },
  {
   "cell_type": "code",
   "execution_count": null,
   "metadata": {},
   "outputs": [],
   "source": [
    "# Plot a better chart using this data\n",
    "fig, ax = plt.subplots()\n",
    "ax.bar(badBarNames, badBarValues)\n",
    "fig.suptitle('Number of Drinkers per Beverage')\n",
    "\n",
    "plt.show()"
   ]
  },
  {
   "cell_type": "markdown",
   "metadata": {},
   "source": [
    "Tell a story or describe a pattern using your new visualization."
   ]
  },
  {
   "cell_type": "markdown",
   "metadata": {},
   "source": [
    "**Your Answer Here:**\n",
    "\n",
    ">This chart tells the amount of people who drink these different kinds of beverages at Mines"
   ]
  },
  {
   "cell_type": "markdown",
   "metadata": {},
   "source": [
    "### Problem 4: Bad bar chart 2 (20 points)\n",
    "\n",
    "Explain why this visualization is a bad one:\n",
    "\n",
    "![Bad Bar Chart](http://imgur.com/Ns3lgyp.png)"
   ]
  },
  {
   "cell_type": "markdown",
   "metadata": {},
   "source": [
    "**Your Answer Here:**\n",
    "\n",
    ">The y axis does not have room for all the data, and there is an ugly gap between the left side of the chart and the labels."
   ]
  },
  {
   "cell_type": "code",
   "execution_count": null,
   "metadata": {},
   "outputs": [],
   "source": [
    "badBar2Names = [\"Jan\", \"Feb\", \"Mar\", \"Apr\", \"May\", \"Jun\", \"Jul\", \"Aug\", \"Sep\", \"Oct\", \"Nov\", \"Dec\"]\n",
    "badBar2Values = [240, 320, 360, 280, 290, 300, 500, 410, 390, 200, 220, 240]"
   ]
  },
  {
   "cell_type": "code",
   "execution_count": null,
   "metadata": {},
   "outputs": [],
   "source": [
    "# Plot a better chart using this data\n",
    "fig, ax = plt.subplots()\n",
    "ax.bar(badBar2Names, badBar2Values)\n",
    "fig.suptitle('The Number of Golden Retrievers in Golden Per Month', y=.95)\n",
    "\n",
    "plt.show()"
   ]
  },
  {
   "cell_type": "markdown",
   "metadata": {},
   "source": [
    "Tell a story or describe a pattern using your new visualization."
   ]
  },
  {
   "cell_type": "markdown",
   "metadata": {},
   "source": [
    "**Your Answer Here:**\n",
    "\n",
    ">Goldens in Golden got moved to July"
   ]
  },
  {
   "cell_type": "markdown",
   "metadata": {},
   "source": [
    "### Questionnaire\n",
    "1) How long did you spend on this assignment?\n",
    "<br> It took us 2 hours <br>\n",
    "2) What did you like about it? What did you not like about it?\n",
    "<br> I liked everything about it, except that, the unstructions were unclear most times, and the required steps made it harder.<br>\n",
    "3) Did you find any errors or is there anything you would like changed?\n",
    "<br> No, I would do this assignment again. There was a type on the first assignment. <br>"
   ]
  }
 ],
 "metadata": {
  "anaconda-cloud": {},
  "kernelspec": {
   "display_name": "Python 3",
   "language": "python",
   "name": "python3"
  },
  "language_info": {
   "codemirror_mode": {
    "name": "ipython",
    "version": 3
   },
   "file_extension": ".py",
   "mimetype": "text/x-python",
   "name": "python",
   "nbconvert_exporter": "python",
   "pygments_lexer": "ipython3",
   "version": "3.11.7"
  }
 },
 "nbformat": 4,
 "nbformat_minor": 2
}
